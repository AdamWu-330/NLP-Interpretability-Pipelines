{
  "nbformat": 4,
  "nbformat_minor": 0,
  "metadata": {
    "colab": {
      "name": "EDA_demo.ipynb",
      "provenance": []
    },
    "kernelspec": {
      "name": "python3",
      "display_name": "Python 3"
    },
    "language_info": {
      "name": "python"
    }
  },
  "cells": [
    {
      "cell_type": "code",
      "execution_count": 8,
      "metadata": {
        "id": "AHXwOdk7wXO9"
      },
      "outputs": [],
      "source": [
        "from nlp_pipeline_eda import EDA"
      ]
    },
    {
      "cell_type": "code",
      "source": [
        "from google.colab import drive\n",
        "drive.mount('/content/drive')"
      ],
      "metadata": {
        "colab": {
          "base_uri": "https://localhost:8080/"
        },
        "id": "y6c6MfSVw12s",
        "outputId": "ff3496a0-42e8-4d6c-97f5-9fe0aba156fd"
      },
      "execution_count": 2,
      "outputs": [
        {
          "output_type": "stream",
          "name": "stdout",
          "text": [
            "Mounted at /content/drive\n"
          ]
        }
      ]
    },
    {
      "cell_type": "code",
      "source": [
        "# test label encoding\n",
        "eda = EDA('/content/drive/MyDrive/nlp_datasets/IMDB Dataset.csv', label_col='sentiment')\n",
        "print('Displaying data before label encoding: ')\n",
        "eda.display_original_data(10)\n",
        "\n",
        "eda.encode_label()\n",
        "\n",
        "print('\\nDisplaying data after label encoding: ')\n",
        "eda.display_original_data(10)"
      ],
      "metadata": {
        "colab": {
          "base_uri": "https://localhost:8080/"
        },
        "id": "CD3yJ2YWw8fy",
        "outputId": "7309bfeb-10a3-404c-9bc2-359f1db6f520"
      },
      "execution_count": 9,
      "outputs": [
        {
          "output_type": "stream",
          "name": "stderr",
          "text": [
            "/usr/local/lib/python3.7/dist-packages/ipykernel_launcher.py:2: FutureWarning: The error_bad_lines argument has been deprecated and will be removed in a future version.\n",
            "\n",
            "\n",
            "  \n"
          ]
        },
        {
          "output_type": "stream",
          "name": "stdout",
          "text": [
            "Displaying data before label encoding: \n",
            "Displaying the first 10 samples of the dataset: \n",
            "                                              review sentiment\n",
            "0  One of the other reviewers has mentioned that ...  positive\n",
            "1  A wonderful little production. <br /><br />The...  positive\n",
            "2  I thought this was a wonderful way to spend ti...  positive\n",
            "3  Basically there's a family where a little boy ...  negative\n",
            "4  Petter Mattei's \"Love in the Time of Money\" is...  positive\n",
            "5  Probably my all-time favorite movie, a story o...  positive\n",
            "6  I sure would like to see a resurrection of a u...  positive\n",
            "7  This show was an amazing, fresh & innovative i...  negative\n",
            "8  Encouraged by the positive comments about this...  negative\n",
            "9  If you like original gut wrenching laughter yo...  positive\n",
            "\n",
            "Displaying data after label encoding: \n",
            "Displaying the first 10 samples of the dataset: \n",
            "                                              review  sentiment\n",
            "0  One of the other reviewers has mentioned that ...          1\n",
            "1  A wonderful little production. <br /><br />The...          1\n",
            "2  I thought this was a wonderful way to spend ti...          1\n",
            "3  Basically there's a family where a little boy ...          0\n",
            "4  Petter Mattei's \"Love in the Time of Money\" is...          1\n",
            "5  Probably my all-time favorite movie, a story o...          1\n",
            "6  I sure would like to see a resurrection of a u...          1\n",
            "7  This show was an amazing, fresh & innovative i...          0\n",
            "8  Encouraged by the positive comments about this...          0\n",
            "9  If you like original gut wrenching laughter yo...          1\n"
          ]
        }
      ]
    },
    {
      "cell_type": "code",
      "source": [
        "#test class balancing\n",
        "\n",
        "# check the number of samples in each class before class balancing\n",
        "print(\"number of samples in each class before class balancing: \")\n",
        "print(eda.get_data()[eda.get_lable_column()].value_counts())\n",
        "\n",
        "# remove 100 samples to test the class balancing function\n",
        "eda.delete_samples_from_data()\n",
        "print(\"number of samples in each class after removing the last 100 samples: \")\n",
        "print(eda.get_data()[eda.get_lable_column()].value_counts())\n",
        "\n",
        "eda.balance_class()\n",
        "\n",
        "print(\"number of samples in each class after class balancing: \")\n",
        "print(eda.get_data()[eda.get_lable_column()].value_counts())"
      ],
      "metadata": {
        "colab": {
          "base_uri": "https://localhost:8080/"
        },
        "id": "vz9XN8I-xOjs",
        "outputId": "b3b2f478-bed9-4dbf-9acb-be48454f351f"
      },
      "execution_count": 10,
      "outputs": [
        {
          "output_type": "stream",
          "name": "stdout",
          "text": [
            "number of samples in each class before class balancing: \n",
            "1    25000\n",
            "0    25000\n",
            "Name: sentiment, dtype: int64\n",
            "number of samples in each class after removing the last 100 samples: \n",
            "1    24958\n",
            "0    24942\n",
            "Name: sentiment, dtype: int64\n",
            "number of samples in each class after class balancing: \n",
            "1    24958\n",
            "0    24958\n",
            "Name: sentiment, dtype: int64\n"
          ]
        }
      ]
    },
    {
      "cell_type": "code",
      "source": [
        "#test text preprocessing\n",
        "print('Displaying first 10 samples before preprocessing text: ')\n",
        "eda.display_original_data(10)\n",
        "\n",
        "# preprocess text on the specified column\n",
        "eda.preprocess_text('review')\n",
        "\n",
        "print('Displaying first 10 samples after preprocessing text: ')\n",
        "eda.display_original_data(10)"
      ],
      "metadata": {
        "colab": {
          "base_uri": "https://localhost:8080/"
        },
        "id": "n5p9BEL0xQOM",
        "outputId": "ba0beda0-3b50-4398-da68-b51ba6b9bc72"
      },
      "execution_count": 11,
      "outputs": [
        {
          "output_type": "stream",
          "name": "stdout",
          "text": [
            "Displaying first 10 samples before preprocessing text: \n",
            "Displaying the first 10 samples of the dataset: \n",
            "                                              review  sentiment\n",
            "0  One of the other reviewers has mentioned that ...          1\n",
            "1  A wonderful little production. <br /><br />The...          1\n",
            "2  I thought this was a wonderful way to spend ti...          1\n",
            "3  Basically there's a family where a little boy ...          0\n",
            "4  Petter Mattei's \"Love in the Time of Money\" is...          1\n",
            "5  Probably my all-time favorite movie, a story o...          1\n",
            "6  I sure would like to see a resurrection of a u...          1\n",
            "7  This show was an amazing, fresh & innovative i...          0\n",
            "8  Encouraged by the positive comments about this...          0\n",
            "9  If you like original gut wrenching laughter yo...          1\n",
            "\n",
            "\n",
            "Start text preprocessing: \n",
            "--------------------------\n",
            "Converting to lowercase...\n",
            "--------------------------\n",
            "Removing html tags...\n",
            "--------------------------\n",
            "Removing nonword characters...\n",
            "--------------------------\n",
            "Removing stopwords...\n",
            "[nltk_data] Downloading package stopwords to /root/nltk_data...\n",
            "[nltk_data]   Package stopwords is already up-to-date!\n",
            "[nltk_data] Downloading package wordnet to /root/nltk_data...\n",
            "[nltk_data]   Package wordnet is already up-to-date!\n",
            "Text preprocessing completed.\n",
            "\n",
            "\n",
            "Displaying first 10 samples after preprocessing text: \n",
            "Displaying the first 10 samples of the dataset: \n",
            "                                              review  sentiment\n",
            "0  one reviewers mentioned watching 1 oz episode ...          1\n",
            "1  wonderful little production filming technique ...          1\n",
            "2  thought wonderful way spend time hot summer we...          1\n",
            "3  basically family little boy jake thinks zombie...          0\n",
            "4  petter mattei love time money visually stunnin...          1\n",
            "5  probably time favorite movie story selflessnes...          1\n",
            "6  sure would like see resurrection dated seahunt...          1\n",
            "7  show amazing fresh innovative idea 70 first ai...          0\n",
            "8  encouraged positive comments film looking forw...          0\n",
            "9  like original gut wrenching laughter like movi...          1\n"
          ]
        }
      ]
    }
  ]
}